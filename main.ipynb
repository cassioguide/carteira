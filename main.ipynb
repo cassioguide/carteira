{
  "nbformat": 4,
  "nbformat_minor": 0,
  "metadata": {
    "colab": {
      "provenance": [],
      "collapsed_sections": [],
      "toc_visible": true,
      "mount_file_id": "1ujsnxY8yY0lIdFs1cpd9b7rsKS7gbhbJ",
      "authorship_tag": "ABX9TyMfZM8IStn9goEJYDo1fdAb",
      "include_colab_link": true
    },
    "kernelspec": {
      "name": "python3",
      "display_name": "Python 3"
    },
    "language_info": {
      "name": "python"
    }
  },
  "cells": [
    {
      "cell_type": "markdown",
      "metadata": {
        "id": "view-in-github",
        "colab_type": "text"
      },
      "source": [
        "<a href=\"https://colab.research.google.com/github/cassioguide/carteira/blob/main/main.ipynb\" target=\"_parent\"><img src=\"https://colab.research.google.com/assets/colab-badge.svg\" alt=\"Open In Colab\"/></a>"
      ]
    },
    {
      "cell_type": "markdown",
      "source": [
        "# Importando Bibliotecas"
      ],
      "metadata": {
        "id": "coei6k00FVIl"
      }
    },
    {
      "cell_type": "code",
      "source": [
        "!pip install gspread #Instalando pacote gspread\n",
        "# !pip install yfinance --upgrade --no-cache-dir\n",
        "# import yfinance as yf #pacote que disponibiliza informações de cotações de ativos financeiros\n",
        "import numpy as np #biblioteca para processamento de matrizes e funções matematicas de alto nivel\n",
        "import pandas as pd #biblioteca para manipulação e análise de dados\n",
        "# import matplotlib.pyplot as plt #biblitoteca para criação de gráficos e visualizações de dados\n",
        "# import seaborn as sns #biblioteca uma das mais poderosas para plotagem de varios tipos de gráficos. Indicada para análise exploratória de dados"
      ],
      "metadata": {
        "id": "lkcFty2LFbKK"
      },
      "execution_count": null,
      "outputs": []
    },
    {
      "cell_type": "markdown",
      "source": [
        "# Desenvolvimento"
      ],
      "metadata": {
        "id": "bUefVjDxswxz"
      }
    },
    {
      "cell_type": "markdown",
      "source": [
        "## Conectando ao *GSheets*"
      ],
      "metadata": {
        "id": "AgD1YGnqxp2u"
      }
    },
    {
      "cell_type": "markdown",
      "source": [
        ">Importando bibliotecas do google e realizando autenticação"
      ],
      "metadata": {
        "id": "qeCD_84HyrEQ"
      }
    },
    {
      "cell_type": "code",
      "source": [
        "from google.colab import auth\n",
        "auth.authenticate_user()\n",
        "\n",
        "import gspread\n",
        "from google.auth import default\n",
        "creds, _ = default()\n",
        "\n",
        "gc = gspread.authorize(creds) #objeto gc recebe autorização para acesso ao google sheets\n",
        "\n",
        "sh = gc.open_by_key(\"1gfMR6PLSuxn1t6BuoVp6FsQJUbjCouwCaPQqIs-qqxo\") #sh recebeo arquivo aberto com objeto gc\n",
        "\n",
        "Operacoes = sh.worksheet(\"oper\") #Operaçoes recebe os dados da pasta de trabalho \"oper\" do arquivo \"sh\""
      ],
      "metadata": {
        "id": "Y_RdiPLz22oL"
      },
      "execution_count": 2,
      "outputs": []
    },
    {
      "cell_type": "markdown",
      "source": [
        "> Extraindo ativos negociados na carteira"
      ],
      "metadata": {
        "id": "NS3WicdrhMyi"
      }
    },
    {
      "cell_type": "code",
      "source": [
        "ticker_list = df['ticker'].tolist()\n",
        "\n",
        "print(ticker_list)\n",
        "\n",
        "# def remove_dups (list):\n",
        "#   l=[]\n",
        "#   for item in list:\n",
        "#     if item not in l:\n",
        "#       l.append(item)\n",
        "#     #l.sort()\n",
        "#     print(l)\n",
        "#     return l\n",
        "\n",
        "\n",
        "def remove_dups(lista):\n",
        "    \"\"\"Remove os itens duplicados mas não mantém a ordem original.\"\"\"\n",
        "    return list(set(lista)) #transforma a lista em set e depois transforma o set em uma lista novamente\n",
        "\n",
        "ticker=remove_dups(ticker_list)\n",
        "ticker.sort()\n",
        "print(ticker)\n"
      ],
      "metadata": {
        "id": "77kHD-jKhWra"
      },
      "execution_count": null,
      "outputs": []
    },
    {
      "cell_type": "markdown",
      "source": [
        "## Definição de Objetos"
      ],
      "metadata": {
        "id": "fDqdqk9atv1B"
      }
    },
    {
      "cell_type": "code",
      "source": [
        "class Ativo (Carteira):\n",
        "  def__init__(self, ticker, CNPJ)\n",
        "\n",
        "  def PM:\n",
        "    return PM\n",
        "  \n",
        "  def PMAjustado:\n",
        "    return PM_Ajustado\n",
        "  \n",
        "\n",
        "class Carteira:\n",
        "  \n",
        "  def__init__(self, nome):\n",
        "    self.nome = nome\n",
        "\n",
        "  def YOC:\n",
        "    return YOC\n",
        "\n",
        "  def DY:\n",
        "    return DY\n",
        "  \n",
        "  def Rentabilidade:\n",
        "    return Rentabilidade\n",
        "    \n",
        "  def Rendimentos:\n",
        "    return Rendimentos\n",
        "  \n",
        "  def AporteDoMes:\n",
        "    return AporteDoMes\n",
        "\n",
        "  "
      ],
      "metadata": {
        "id": "9nSHGpT_t3yw"
      },
      "execution_count": null,
      "outputs": []
    },
    {
      "cell_type": "markdown",
      "source": [
        "## Iniciando uma carteira"
      ],
      "metadata": {
        "id": "gd_nbh80zEy8"
      }
    },
    {
      "cell_type": "markdown",
      "source": [
        "### Saneamento do dataframe dos dados de Operações"
      ],
      "metadata": {
        "id": "_cKBIRN0UD09"
      }
    },
    {
      "cell_type": "markdown",
      "source": [
        ">\n",
        "1. REMOVER \"R$\" DO PREÇO\n",
        "2. TRANSFORMA A COLUNA PREÇO EM NUMERICO\n",
        "3. CRIAR UMA COLUNA \"TOTAL\" TOTALIZANDO A MULTIPLICAÇÃO ENTRE A QUANTIDADE E O PREÇO\n",
        "4. DISTRIBUIR PROPORCIONALMENTE AS TAXAS DE NOTA DE CORRETAGEM ENTRE AS OPERAÇÕES REALIZADAS NO DIA\n",
        "5. INCORPORAR TAXAS AO CALCULO DO PREÇO MEDIO (ACRESCENTAR POSTERIORMENTE)\n",
        "6. REMOVER \"F\" DE ATIVOS COM OPERAÇÕES FRACIONADAS\n",
        "7. ATUALIZAR TICKERS COM BASE NO SEU CÓDIGO ATUAL\n"
      ],
      "metadata": {
        "id": "isLCVVoQNwYO"
      }
    },
    {
      "cell_type": "code",
      "source": [
        "\n",
        "dfOperacoes= pd.DataFrame(Operacoes.get_all_records()) #Iniciado data frame com os dados de Operacoes\n",
        "\n",
        "dfOperacoes.head()\n",
        "\n",
        "dfPM=dfOperacoes.query('ticker == \"PLCR11\" & tipo == \"C\"')\n"
      ],
      "metadata": {
        "id": "iQ_63R50zKDA"
      },
      "execution_count": 59,
      "outputs": []
    },
    {
      "cell_type": "code",
      "source": [
        "dfPM.head()"
      ],
      "metadata": {
        "id": "cDX90X7aBE3C"
      },
      "execution_count": null,
      "outputs": []
    },
    {
      "cell_type": "code",
      "source": [
        "dfPM['total']=df.apply(lambda x: x['quantidade']*x['preço'], axis=1)"
      ],
      "metadata": {
        "id": "eIoE0jm_C7r_"
      },
      "execution_count": null,
      "outputs": []
    },
    {
      "cell_type": "code",
      "source": [
        "dfPM['quantidade'].sum()"
      ],
      "metadata": {
        "id": "MWmOhhLq_dlS"
      },
      "execution_count": null,
      "outputs": []
    },
    {
      "cell_type": "markdown",
      "source": [
        "> PARA INSTANCIAR UM OBJETO SERÁ UTILIZADO COMO ENTRADA UM DATA FRAME COM TODAS AS OPERAÇÕES REALIZADAS COM O ATIVO"
      ],
      "metadata": {
        "id": "19nOCkyuQxH6"
      }
    }
  ]
}