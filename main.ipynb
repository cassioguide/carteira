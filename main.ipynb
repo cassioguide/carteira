{
  "nbformat": 4,
  "nbformat_minor": 0,
  "metadata": {
    "colab": {
      "provenance": [],
      "mount_file_id": "1ujsnxY8yY0lIdFs1cpd9b7rsKS7gbhbJ",
      "authorship_tag": "ABX9TyNvd9kBufWMBrAJlSkeKCXz",
      "include_colab_link": true
    },
    "kernelspec": {
      "name": "python3",
      "display_name": "Python 3"
    },
    "language_info": {
      "name": "python"
    }
  },
  "cells": [
    {
      "cell_type": "markdown",
      "metadata": {
        "id": "view-in-github",
        "colab_type": "text"
      },
      "source": [
        "<a href=\"https://colab.research.google.com/github/cassioguide/carteira/blob/main/main.ipynb\" target=\"_parent\"><img src=\"https://colab.research.google.com/assets/colab-badge.svg\" alt=\"Open In Colab\"/></a>"
      ]
    },
    {
      "cell_type": "markdown",
      "source": [
        "# Importando Bibliotecas"
      ],
      "metadata": {
        "id": "coei6k00FVIl"
      }
    },
    {
      "cell_type": "code",
      "source": [
        "!pip install gspread #Instalando pacote gspread\n",
        "# !pip install yfinance --upgrade --no-cache-dir\n",
        "# import yfinance as yf #pacote que disponibiliza informações de cotações de ativos financeiros\n",
        "import numpy as np #biblioteca para processamento de matrizes e funções matematicas de alto nivel\n",
        "import pandas as pd #biblioteca para manipulação e análise de dados\n",
        "# import matplotlib.pyplot as plt #biblitoteca para criação de gráficos e visualizações de dados\n",
        "# import seaborn as sns #biblioteca uma das mais poderosas para plotagem de varios tipos de gráficos. Indicada para análise exploratória de dados"
      ],
      "metadata": {
        "id": "lkcFty2LFbKK",
        "colab": {
          "base_uri": "https://localhost:8080/"
        },
        "outputId": "a9e6127d-cfd0-4ca3-feef-a072663280b6"
      },
      "execution_count": 4,
      "outputs": [
        {
          "output_type": "stream",
          "name": "stdout",
          "text": [
            "Looking in indexes: https://pypi.org/simple, https://us-python.pkg.dev/colab-wheels/public/simple/\n",
            "Requirement already satisfied: gspread in /usr/local/lib/python3.7/dist-packages (3.4.2)\n",
            "Requirement already satisfied: requests>=2.2.1 in /usr/local/lib/python3.7/dist-packages (from gspread) (2.23.0)\n",
            "Requirement already satisfied: google-auth in /usr/local/lib/python3.7/dist-packages (from gspread) (2.14.1)\n",
            "Requirement already satisfied: chardet<4,>=3.0.2 in /usr/local/lib/python3.7/dist-packages (from requests>=2.2.1->gspread) (3.0.4)\n",
            "Requirement already satisfied: idna<3,>=2.5 in /usr/local/lib/python3.7/dist-packages (from requests>=2.2.1->gspread) (2.10)\n",
            "Requirement already satisfied: certifi>=2017.4.17 in /usr/local/lib/python3.7/dist-packages (from requests>=2.2.1->gspread) (2022.9.24)\n",
            "Requirement already satisfied: urllib3!=1.25.0,!=1.25.1,<1.26,>=1.21.1 in /usr/local/lib/python3.7/dist-packages (from requests>=2.2.1->gspread) (1.24.3)\n",
            "Requirement already satisfied: six>=1.9.0 in /usr/local/lib/python3.7/dist-packages (from google-auth->gspread) (1.15.0)\n",
            "Requirement already satisfied: pyasn1-modules>=0.2.1 in /usr/local/lib/python3.7/dist-packages (from google-auth->gspread) (0.2.8)\n",
            "Requirement already satisfied: cachetools<6.0,>=2.0.0 in /usr/local/lib/python3.7/dist-packages (from google-auth->gspread) (5.2.0)\n",
            "Requirement already satisfied: rsa<5,>=3.1.4 in /usr/local/lib/python3.7/dist-packages (from google-auth->gspread) (4.9)\n",
            "Requirement already satisfied: pyasn1<0.5.0,>=0.4.6 in /usr/local/lib/python3.7/dist-packages (from pyasn1-modules>=0.2.1->google-auth->gspread) (0.4.8)\n"
          ]
        }
      ]
    },
    {
      "cell_type": "markdown",
      "source": [
        "# Desenvolvimento"
      ],
      "metadata": {
        "id": "bUefVjDxswxz"
      }
    },
    {
      "cell_type": "markdown",
      "source": [
        "## Conectando ao *GSheets*"
      ],
      "metadata": {
        "id": "AgD1YGnqxp2u"
      }
    },
    {
      "cell_type": "markdown",
      "source": [
        ">Importando bibliotecas do google e realizando autenticação"
      ],
      "metadata": {
        "id": "qeCD_84HyrEQ"
      }
    },
    {
      "cell_type": "code",
      "source": [
        "from google.colab import auth\n",
        "auth.authenticate_user()\n",
        "\n",
        "import gspread\n",
        "from google.auth import default\n",
        "creds, _ = default()\n",
        "\n",
        "gc = gspread.authorize(creds) #objeto gc recebe autorização para acesso ao google sheets\n",
        "\n",
        "sh = gc.open_by_key(\"1gfMR6PLSuxn1t6BuoVp6FsQJUbjCouwCaPQqIs-qqxo\") #sh recebeo arquivo aberto com objeto gc\n",
        "\n",
        "operacoes = sh.worksheet(\"oper\") #Operaçoes recebe os dados da pasta de trabalho \"oper\" do arquivo \"sh\""
      ],
      "metadata": {
        "id": "Y_RdiPLz22oL"
      },
      "execution_count": 49,
      "outputs": []
    },
    {
      "cell_type": "markdown",
      "source": [
        "> Extraindo ativos negociados na carteira"
      ],
      "metadata": {
        "id": "NS3WicdrhMyi"
      }
    },
    {
      "cell_type": "code",
      "source": [
        "ticker_list = df['ticker'].tolist()\n",
        "\n",
        "print(ticker_list)\n",
        "\n",
        "# def remove_dups (list):\n",
        "#   l=[]\n",
        "#   for item in list:\n",
        "#     if item not in l:\n",
        "#       l.append(item)\n",
        "#     #l.sort()\n",
        "#     print(l)\n",
        "#     return l\n",
        "\n",
        "\n",
        "def remove_dups(lista):\n",
        "    \"\"\"Remove os itens duplicados mas não mantém a ordem original.\"\"\"\n",
        "    return list(set(lista)) #transforma a lista em set e depois transforma o set em uma lista novamente\n",
        "\n",
        "ticker=remove_dups(ticker_list)\n",
        "ticker.sort()\n",
        "print(ticker)\n"
      ],
      "metadata": {
        "id": "77kHD-jKhWra",
        "colab": {
          "base_uri": "https://localhost:8080/",
          "height": 235
        },
        "outputId": "0dcf5935-2b32-451c-937a-a788945de618"
      },
      "execution_count": 7,
      "outputs": [
        {
          "output_type": "error",
          "ename": "NameError",
          "evalue": "ignored",
          "traceback": [
            "\u001b[0;31m---------------------------------------------------------------------------\u001b[0m",
            "\u001b[0;31mNameError\u001b[0m                                 Traceback (most recent call last)",
            "\u001b[0;32m<ipython-input-7-9fe12e5d2423>\u001b[0m in \u001b[0;36m<module>\u001b[0;34m\u001b[0m\n\u001b[0;32m----> 1\u001b[0;31m \u001b[0mticker_list\u001b[0m \u001b[0;34m=\u001b[0m \u001b[0mdf\u001b[0m\u001b[0;34m[\u001b[0m\u001b[0;34m'ticker'\u001b[0m\u001b[0;34m]\u001b[0m\u001b[0;34m.\u001b[0m\u001b[0mtolist\u001b[0m\u001b[0;34m(\u001b[0m\u001b[0;34m)\u001b[0m\u001b[0;34m\u001b[0m\u001b[0;34m\u001b[0m\u001b[0m\n\u001b[0m\u001b[1;32m      2\u001b[0m \u001b[0;34m\u001b[0m\u001b[0m\n\u001b[1;32m      3\u001b[0m \u001b[0mprint\u001b[0m\u001b[0;34m(\u001b[0m\u001b[0mticker_list\u001b[0m\u001b[0;34m)\u001b[0m\u001b[0;34m\u001b[0m\u001b[0;34m\u001b[0m\u001b[0m\n\u001b[1;32m      4\u001b[0m \u001b[0;34m\u001b[0m\u001b[0m\n\u001b[1;32m      5\u001b[0m \u001b[0;31m# def remove_dups (list):\u001b[0m\u001b[0;34m\u001b[0m\u001b[0;34m\u001b[0m\u001b[0;34m\u001b[0m\u001b[0m\n",
            "\u001b[0;31mNameError\u001b[0m: name 'df' is not defined"
          ]
        }
      ]
    },
    {
      "cell_type": "markdown",
      "source": [
        "## Definição de Objetos"
      ],
      "metadata": {
        "id": "fDqdqk9atv1B"
      }
    },
    {
      "cell_type": "code",
      "source": [
        "class Ativo (Carteira):\n",
        "  def__init__(self, ticker, CNPJ)\n",
        "\n",
        "  def PM:\n",
        "    return PM\n",
        "  \n",
        "  def PMAjustado:\n",
        "    return PM_Ajustado\n",
        "  \n",
        "\n",
        "class Carteira:\n",
        "  \n",
        "  def__init__(self, nome):\n",
        "    self.nome = nome\n",
        "\n",
        "  def YOC:\n",
        "    return YOC\n",
        "\n",
        "  def DY:\n",
        "    return DY\n",
        "  \n",
        "  def Rentabilidade:\n",
        "    return Rentabilidade\n",
        "    \n",
        "  def Rendimentos:\n",
        "    return Rendimentos\n",
        "  \n",
        "  def AporteDoMes:\n",
        "    return AporteDoMes\n",
        "\n",
        "  "
      ],
      "metadata": {
        "id": "9nSHGpT_t3yw"
      },
      "execution_count": null,
      "outputs": []
    },
    {
      "cell_type": "markdown",
      "source": [
        "## Iniciando uma carteira"
      ],
      "metadata": {
        "id": "gd_nbh80zEy8"
      }
    },
    {
      "cell_type": "markdown",
      "source": [
        "### Saneamento do dataframe dos dados de Operações"
      ],
      "metadata": {
        "id": "_cKBIRN0UD09"
      }
    },
    {
      "cell_type": "markdown",
      "source": [
        ">\n",
        "1. REMOVER \"R$\" DO PREÇO\n",
        "2. TRANSFORMA A COLUNA PREÇO EM NUMERICO\n",
        "3. CRIAR UMA COLUNA \"TOTAL\" TOTALIZANDO A MULTIPLICAÇÃO ENTRE A QUANTIDADE E O PREÇO\n",
        "4. DISTRIBUIR PROPORCIONALMENTE AS TAXAS DE NOTA DE CORRETAGEM ENTRE AS OPERAÇÕES REALIZADAS NO DIA\n",
        "5. INCORPORAR TAXAS AO CALCULO DO PREÇO MEDIO (ACRESCENTAR POSTERIORMENTE)\n",
        "6. REMOVER \"F\" DE ATIVOS COM OPERAÇÕES FRACIONADAS\n",
        "7. ATUALIZAR TICKERS COM BASE NO SEU CÓDIGO ATUAL\n"
      ],
      "metadata": {
        "id": "isLCVVoQNwYO"
      }
    },
    {
      "cell_type": "code",
      "source": [
        "\n",
        "operacoes.replace('R$ ','')"
      ],
      "metadata": {
        "colab": {
          "base_uri": "https://localhost:8080/",
          "height": 321
        },
        "id": "_m-V5ByzU4WL",
        "outputId": "c58a2463-b129-4d3e-b39a-31dbd328e1fc"
      },
      "execution_count": 47,
      "outputs": [
        {
          "output_type": "error",
          "ename": "ImportError",
          "evalue": "ignored",
          "traceback": [
            "\u001b[0;31m---------------------------------------------------------------------------\u001b[0m",
            "\u001b[0;31mImportError\u001b[0m                               Traceback (most recent call last)",
            "\u001b[0;32m<ipython-input-47-2296f5843b00>\u001b[0m in \u001b[0;36m<module>\u001b[0;34m\u001b[0m\n\u001b[0;32m----> 1\u001b[0;31m \u001b[0;32mfrom\u001b[0m \u001b[0mgspread\u001b[0m \u001b[0;32mimport\u001b[0m \u001b[0mreplace\u001b[0m\u001b[0;34m\u001b[0m\u001b[0;34m\u001b[0m\u001b[0m\n\u001b[0m\u001b[1;32m      2\u001b[0m \u001b[0moperacoes\u001b[0m\u001b[0;34m.\u001b[0m\u001b[0mreplace\u001b[0m\u001b[0;34m(\u001b[0m\u001b[0;34m'R$ '\u001b[0m\u001b[0;34m,\u001b[0m\u001b[0;34m''\u001b[0m\u001b[0;34m)\u001b[0m\u001b[0;34m\u001b[0m\u001b[0;34m\u001b[0m\u001b[0m\n",
            "\u001b[0;31mImportError\u001b[0m: cannot import name 'replace' from 'gspread' (/usr/local/lib/python3.7/dist-packages/gspread/__init__.py)",
            "",
            "\u001b[0;31m---------------------------------------------------------------------------\u001b[0;32m\nNOTE: If your import is failing due to a missing package, you can\nmanually install dependencies using either !pip or !apt.\n\nTo view examples of installing some common dependencies, click the\n\"Open Examples\" button below.\n\u001b[0;31m---------------------------------------------------------------------------\u001b[0m\n"
          ],
          "errorDetails": {
            "actions": [
              {
                "action": "open_url",
                "actionText": "Open Examples",
                "url": "/notebooks/snippets/importing_libraries.ipynb"
              }
            ]
          }
        }
      ]
    },
    {
      "cell_type": "code",
      "source": [
        "\n",
        "dfOperacoes= pd.DataFrame(operacoes.get_all_records()) #Iniciado data frame com os dados de Operacoes\n",
        "\n",
        "dfOperacoes.head()\n",
        "\n",
        "\n"
      ],
      "metadata": {
        "id": "iQ_63R50zKDA"
      },
      "execution_count": null,
      "outputs": []
    },
    {
      "cell_type": "code",
      "source": [
        "dfOperacoes.replace('R$', ' ', regex=True, inplace=True)\n",
        "\n",
        "dfOperacoes.head()"
      ],
      "metadata": {
        "id": "_lFyp_BbQAOt"
      },
      "execution_count": null,
      "outputs": []
    },
    {
      "cell_type": "code",
      "source": [
        "dfPM=dfOperacoes.query('ticker == \"PLCR11\" & tipo == \"C\"')\n",
        "dfPM.head()"
      ],
      "metadata": {
        "id": "cDX90X7aBE3C"
      },
      "execution_count": null,
      "outputs": []
    },
    {
      "cell_type": "code",
      "source": [
        "dfPM.dtypes"
      ],
      "metadata": {
        "colab": {
          "base_uri": "https://localhost:8080/"
        },
        "id": "X1UMtAyCZA6G",
        "outputId": "489ee65e-c191-469a-b115-446e19ec7be0"
      },
      "execution_count": 63,
      "outputs": [
        {
          "output_type": "execute_result",
          "data": {
            "text/plain": [
              "data          object\n",
              "categoria     object\n",
              "ticker        object\n",
              "tipo          object\n",
              "quantidade     int64\n",
              "preco         object\n",
              "corretora     object\n",
              "              object\n",
              "Corretagem    object\n",
              "Taxas         object\n",
              "Impostos      object\n",
              "IRRF          object\n",
              "total         object\n",
              "dtype: object"
            ]
          },
          "metadata": {},
          "execution_count": 63
        }
      ]
    },
    {
      "cell_type": "code",
      "source": [
        "dfPM.apply(lambda x: x['quantidade']*x['preco'], axis=1)"
      ],
      "metadata": {
        "id": "eIoE0jm_C7r_"
      },
      "execution_count": null,
      "outputs": []
    },
    {
      "cell_type": "code",
      "source": [
        "dfPM['quantidade'].sum()"
      ],
      "metadata": {
        "id": "MWmOhhLq_dlS"
      },
      "execution_count": null,
      "outputs": []
    },
    {
      "cell_type": "markdown",
      "source": [
        "> PARA INSTANCIAR UM OBJETO SERÁ UTILIZADO COMO ENTRADA UM DATA FRAME COM TODAS AS OPERAÇÕES REALIZADAS COM O ATIVO"
      ],
      "metadata": {
        "id": "19nOCkyuQxH6"
      }
    }
  ]
}