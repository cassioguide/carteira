{
  "nbformat": 4,
  "nbformat_minor": 0,
  "metadata": {
    "colab": {
      "provenance": [],
      "collapsed_sections": [],
      "toc_visible": true,
      "mount_file_id": "1ujsnxY8yY0lIdFs1cpd9b7rsKS7gbhbJ",
      "authorship_tag": "ABX9TyN5CLR1Um5weOXjhk4DwDI/",
      "include_colab_link": true
    },
    "kernelspec": {
      "name": "python3",
      "display_name": "Python 3"
    },
    "language_info": {
      "name": "python"
    }
  },
  "cells": [
    {
      "cell_type": "markdown",
      "metadata": {
        "id": "view-in-github",
        "colab_type": "text"
      },
      "source": [
        "<a href=\"https://colab.research.google.com/github/cassioguide/carteira/blob/main/main.ipynb\" target=\"_parent\"><img src=\"https://colab.research.google.com/assets/colab-badge.svg\" alt=\"Open In Colab\"/></a>"
      ]
    },
    {
      "cell_type": "markdown",
      "source": [
        "# Importando Bibliotecas"
      ],
      "metadata": {
        "id": "coei6k00FVIl"
      }
    },
    {
      "cell_type": "code",
      "source": [
        "!pip install gspread #Instalando pacote gspread\n",
        "# !pip install yfinance --upgrade --no-cache-dir\n",
        "# import yfinance as yf #pacote que disponibiliza informações de cotações de ativos financeiros\n",
        "import numpy as np #biblioteca para processamento de matrizes e funções matematicas de alto nivel\n",
        "import pandas as pd #biblioteca para manipulação e análise de dados\n",
        "# import matplotlib.pyplot as plt #biblitoteca para criação de gráficos e visualizações de dados\n",
        "# import seaborn as sns #biblioteca uma das mais poderosas para plotagem de varios tipos de gráficos. Indicada para análise exploratória de dados"
      ],
      "metadata": {
        "id": "lkcFty2LFbKK"
      },
      "execution_count": null,
      "outputs": []
    },
    {
      "cell_type": "markdown",
      "source": [
        "# Desenvolvimento"
      ],
      "metadata": {
        "id": "bUefVjDxswxz"
      }
    },
    {
      "cell_type": "markdown",
      "source": [
        "## Conectando ao *GSheets*"
      ],
      "metadata": {
        "id": "AgD1YGnqxp2u"
      }
    },
    {
      "cell_type": "markdown",
      "source": [
        ">Importando bibliotecas do google e realizando autenticação"
      ],
      "metadata": {
        "id": "qeCD_84HyrEQ"
      }
    },
    {
      "cell_type": "code",
      "source": [
        "from google.colab import auth\n",
        "auth.authenticate_user()\n",
        "\n",
        "import gspread\n",
        "from google.auth import default\n",
        "creds, _ = default()\n",
        "\n",
        "gc = gspread.authorize(creds) #objeto gc recebe autorização para acesso ao google sheets\n",
        "\n",
        "sh = gc.open_by_key(\"1gfMR6PLSuxn1t6BuoVp6FsQJUbjCouwCaPQqIs-qqxo\") #sh recebeo arquivo aberto com objeto gc\n",
        "\n",
        "Operacoes = sh.worksheet(\"oper\") #Operaçoes recebe os dados da pasta de trabalho \"oper\" do arquivo \"sh\""
      ],
      "metadata": {
        "id": "Y_RdiPLz22oL"
      },
      "execution_count": 2,
      "outputs": []
    },
    {
      "cell_type": "markdown",
      "source": [
        "> Extraindo ativos negociados na carteira"
      ],
      "metadata": {
        "id": "NS3WicdrhMyi"
      }
    },
    {
      "cell_type": "code",
      "source": [
        "ticker_list = df['ticker'].tolist()\n",
        "\n",
        "print(ticker_list)\n",
        "\n",
        "# def remove_dups (list):\n",
        "#   l=[]\n",
        "#   for item in list:\n",
        "#     if item not in l:\n",
        "#       l.append(item)\n",
        "#     #l.sort()\n",
        "#     print(l)\n",
        "#     return l\n",
        "\n",
        "\n",
        "def remove_dups(lista):\n",
        "    \"\"\"Remove os itens duplicados mas não mantém a ordem original.\"\"\"\n",
        "    return list(set(lista)) #transforma a lista em set e depois transforma o set em uma lista novamente\n",
        "\n",
        "ticker=remove_dups(ticker_list)\n",
        "ticker.sort()\n",
        "print(ticker)\n"
      ],
      "metadata": {
        "colab": {
          "base_uri": "https://localhost:8080/"
        },
        "id": "77kHD-jKhWra",
        "outputId": "3a0bd8fb-df76-495c-d572-7fe3ad24823b"
      },
      "execution_count": null,
      "outputs": [
        {
          "output_type": "stream",
          "name": "stdout",
          "text": [
            "['BCFF11', 'VISC11', 'GGRC11', 'GGRC11', 'GGRC11', 'KNRI11', 'BCFF11', 'HGRE11', 'VISC11', 'BCFF11', 'GGRC11', 'HGRE11', 'XPIN11', 'XPIN11', 'VISC11', 'XPIN11', 'FFCI11', 'HGRE11', 'KNRI11', 'VISC11', 'VLOL11', 'XPIN11', 'XPIN11', 'XPLG11', 'XPML11', 'BCFF11', 'FFCI11', 'GGRC11', 'HGRE11', 'KNRI11', 'VISC11', 'XPIN11', 'XPLG11', 'XPML11', 'RBGS11', 'XPIN11', 'XPLG11', 'JSRE11', 'BCRI11', 'BCRI11', 'JSRE11', 'JSRE11', 'JSRE11', 'RBGS11', 'BCRI11', 'JSRE11', 'XPML11', 'GGRC11', 'RCRB11', 'GGRC11', 'GGRC11', 'GGRC11', 'GGRC11', 'RBGS11', 'VLOL11', 'HSML11', 'VISC11', 'HSML11', 'HSML11', 'VISC11', 'XPML11', 'HSML11', 'XPML11', 'HGRE11', 'HGRE11', 'JSRE11', 'JSRE11', 'JSRE11', 'VILG11', 'VILG11', 'XPLG11', 'BCFF11', 'BCFF11', 'BCFF11', 'KNRI11', 'KNRI11', 'VISC11', 'HSML11', 'HSML11', 'BTLG11', 'VILG11', 'BCRI11', 'XPIN11', 'XPLG11', 'XPLG11', 'RBRP11', 'RBRP11', 'RBRP11', 'RBRP11', 'RBRP11', 'RBRP11', 'RBRP11', 'XPML11', 'XPML11', 'XPML11', 'XPML11', 'VILG11', 'VILG11', 'VILG11', 'BCRI11', 'BCRI11', 'RBRP11', 'RBRP11', 'BCRI11', 'RBRP11', 'RBRP11', 'BTLG11', 'BTLG11', 'BTLG11', 'XPLG11', 'XPLG11', 'XPLG11', 'RBRP11', 'RBRP11', 'RBRP11', 'RBRP11', 'RBRP11', 'BCRI11', 'BCRI11', 'BCRI11', 'VISC11', 'VISC11', 'RBRP11', 'BCRI11', 'HGBS11', 'BTLG11', 'PVBI11', 'RBRP11', 'KISU11', 'HGBS11', 'RBRP11', 'BCRI11', 'BTLG11', 'HGBS11', 'KISU11', 'RZTR11', 'KISU11', 'PVBI11', 'PVBI11', 'RBRP11', 'RZTR11', 'KISU11', 'BCRI11', 'KISU11', 'BTLG11', 'BTLG11', 'HGBS11', 'RBRP11', 'KISU11', 'KISU11', 'RBRP11', 'KISU11', 'KISU11', 'KISU11', 'KISU11', 'BTLG11', 'PVBI11', 'RBRP11', 'BTLG11', 'BTLG11', 'BTLG11', 'KISU11', 'KISU11', 'VISC11', 'VISC11', 'VISC11', 'VILG11', 'VILG11', 'VILG11', 'MALL11', 'MALL11', 'VILG11', 'VILG11', 'BTLG11', 'BTLG11', 'HGRU11', 'VILG11', 'VILG11', 'BTLG11', 'VILG11', 'VILG11', 'VILG11', 'VISC11', 'VISC11', 'BTLG11', 'LVBI11', 'MALL11', 'MALL11', 'HGRU11', 'MALL11', 'BTLG11', 'VILG11', 'VISC11', 'LVBI11', 'LVBI11', 'LVBI11', 'KISU11', 'MALL11', 'KISU11', 'LVBI11', 'KISU11', 'RBRP11', 'VILG11', 'KISU11', 'KISU11', 'KISU11', 'JSRE11', 'KISU11', 'JSRE11', 'KISU11', 'KISU11', 'JSRE11', 'JSRE11', 'BTLG11', 'EGIE3F', 'PVBI11', 'RBRP11', 'HGRU11', 'HGRU11', 'KISU11', 'KNIP11', 'PVBI11', 'BTLG11', 'PVBI11', 'RBRF11', 'RBRF11', 'BTLG11', 'KNIP11', 'PVBI11', 'PVBI11', 'PVBI11', 'RBRF11', 'RBRY11', 'BTLG11', 'BTLG11', 'EGIE3', 'EGIE3F', 'JSRE11', 'KISU11', 'KISU11', 'KISU11', 'KISU11', 'RBRF11', 'KNIP11', 'KNIP11', 'KNIP11', 'KNIP11', 'KISU11', 'PVBI11', 'MCCI11', 'MALL11', 'VISC11', 'JSRE11', 'JSRE11', 'JSRE11', 'JSRE11', 'VISC11', 'HSML11', 'HSML11', 'HSML11', 'HSML11', 'VISC11', 'MCCI11', 'HGRU11', 'KNSC11', 'KNSC11', 'HSML11', 'RBRY11', 'HSML11', 'JSRE11', 'VIVA3F', 'ALUP11', 'BBSE3', 'BBSE3', 'HTMX11', 'KNSC11', 'VISC11', 'HTMX11', 'HTMX11', 'RBRP11', 'RBRP11', 'RBRP11', 'RBRP11', 'RBRP11', 'RBRP11', 'RBRP11', 'RBRP11', 'JFLL11', 'JFLL11', 'JFLL11', 'JFLL11', 'JFLL11', 'HTMX11', 'HTMX11', 'JSRE11', 'HTMX11', 'BBAS3F', 'SULA11F', 'BBAS3', 'SULA11', 'JFLL11', 'JFLL11', 'JFLL11', 'HGRU11', 'HGRU11', 'HGRU11', 'HGRU11', 'HGRU11', 'HGRU11', 'HGRU11', 'HGRU11', 'HGRU11', 'HTMX11', 'HTMX11', 'HTMX11', 'JFLL11', 'JFLL11', 'JFLL11', 'JFLL11', 'JFLL11', 'JFLL11', 'KNSC11', 'HSML11', 'HSML11', 'HSML11', 'HSML11', 'HSML11', 'JFLL11', 'JFLL11', 'JFLL11', 'HTMX11', 'HTMX11', 'HTMX11', 'HTMX11', 'HSML11', 'HSML11', 'HSML11', 'HSML11', 'HSML11', 'HSML11', 'HSML11', 'HSML11', 'HSML11', 'HSML11', 'HSML11', 'HSML11', 'JFLL11', 'JFLL11', 'TRXF11', 'TRXF11', 'TRXF11', 'JFLL11', 'JFLL11', 'JFLL11', 'JFLL11', 'JFLL11', 'JFLL11', 'JFLL11', 'JFLL11', 'JFLL11', 'JFLL11', 'RBRF11', 'RBRF11', 'RBRF11', 'RBRF11', 'RBRF11', 'RBRF11', 'RBRF11', 'RBRF11', 'RBRF11', 'RBRF11', 'RBRF11', 'RBRF11', 'RBRF11', 'RBRF11', 'RBRF11', 'RBRF11', 'LVBI11', 'LVBI11', 'LVBI11', 'LVBI11', 'LVBI11', 'LVBI11', 'LVBI11', 'LVBI11', 'LVBI11', 'LVBI11', 'LVBI11', 'LVBI11', 'LVBI11', 'LVBI11', 'LVBI11', 'LVBI11', 'LVBI11', 'LVBI11', 'VISC11', 'VISC11', 'VISC11', 'VISC11', 'VISC11', 'VISC11', 'VISC11', 'VISC11', 'LVBI11', 'TRXF11', 'MCCI11', 'MCCI11', 'MCCI11', 'MCCI11', 'MCCI11', 'MCCI11', 'MCCI11', 'MCCI11', 'MCCI11', 'MCCI11', 'MCCI11', 'MCCI11', 'MCCI11', 'MCCI11', 'MCCI11', 'MCCI11', 'MCCI11', 'MCCI11', 'MCCI11', 'MCCI11', 'MCCI11', 'RBRP11', 'RBRP11', 'RBRP11', 'TRXF11', 'TRXF11', 'TRXF11', 'TRXF11', 'JFLL11', 'JFLL11', 'JFLL11', 'JFLL11', 'MCCI11', 'MCCI11', 'MCCI11', 'MCCI11', 'MCCI11', 'MCCI11', 'MCCI11', 'HGLG11', 'HGLG11', 'HGLG11', 'MCCI11', 'HGLG11', 'KNIP11', 'KNIP11', 'HGLG11', 'HGLG11', 'LVBI11', 'JFLL11', 'TRXF11', 'JFLL11', 'JSRE11', 'HTMX11', 'MCCI11', 'HGLG11', 'TRXF11', 'KNIP11', 'VISC11', 'TRXF11', 'HGRU11', 'KISU11', 'RBRP11', 'RBRP11', 'MALL11', 'VISC11', 'HGRU11', 'KISU11', 'MALL11', 'RBRP11', 'TRXF11', 'VISC11', 'VILG11', 'VISC11', 'JFLL11', 'ALZR11', 'MALL11', 'RBRP11', 'HSML11', 'VILG11', 'ALZR11', 'KISU11', 'HSML11', 'LVBI11', 'VISC11', 'KISU11', 'HSML11', 'KISU11', 'HGLG11', 'KISU11', 'HGLG11', 'KISU11', 'HGLG11', 'HTMX11', 'HGLG11', 'ALZR11', 'JFLL11', 'HTMX11', 'BTLG11', 'HSML11', 'KISU11', 'VILG11', 'ALZR11', 'ALZR11', 'HGLG11', 'ALZR11', 'ALZR11', 'AIEC11', 'HSML11', 'HGLG11', 'VILG11', 'VISC11', 'KNIP11', 'VISC11', 'HSML11', 'HSML11', 'LVBI11', 'VILG11', 'AIEC11', 'AIEC11', 'HGLG11', 'AIEC11', 'KISU11', 'KNSC11', 'HSML11', 'BTLG11', 'AIEC11', 'HGLG11', 'KNSC11', 'AIEC11', 'HSML11', 'ALZR11', 'HGLG11', 'LVBI11', 'BTLG11', 'JFLL11', 'KNSC11', 'TRXF11', 'VILG11', 'BTLG11', 'TRXF11', 'JSRE11', 'BTLG11', 'TRXF11', 'ALZR11', 'AIEC11', 'JFLL11', 'BTLG11', 'TRXF11', 'KISU11', 'PLCR11', 'PLCR11', 'PLCR11', 'PLCR11', 'PLCR11', 'PLCR11', 'PLCR11', 'PLCR11', 'CVBI11', 'TRXF11', 'TRXF11', 'PLCR11', 'BTLG11', 'PLCR11', 'PLCR11', 'TRXF11']\n",
            "['AIEC11', 'ALUP11', 'ALZR11', 'BBAS3', 'BBAS3F', 'BBSE3', 'BCFF11', 'BCRI11', 'BTLG11', 'CVBI11', 'EGIE3', 'EGIE3F', 'FFCI11', 'GGRC11', 'HGBS11', 'HGLG11', 'HGRE11', 'HGRU11', 'HSML11', 'HTMX11', 'JFLL11', 'JSRE11', 'KISU11', 'KNIP11', 'KNRI11', 'KNSC11', 'LVBI11', 'MALL11', 'MCCI11', 'PLCR11', 'PVBI11', 'RBGS11', 'RBRF11', 'RBRP11', 'RBRY11', 'RCRB11', 'RZTR11', 'SULA11', 'SULA11F', 'TRXF11', 'VILG11', 'VISC11', 'VIVA3F', 'VLOL11', 'XPIN11', 'XPLG11', 'XPML11']\n"
          ]
        }
      ]
    },
    {
      "cell_type": "markdown",
      "source": [
        "## Definição de Objetos"
      ],
      "metadata": {
        "id": "fDqdqk9atv1B"
      }
    },
    {
      "cell_type": "code",
      "source": [
        "class Ativo (Carteira):\n",
        "  def__init__(self, ticker, CNPJ)\n",
        "\n",
        "  def PM:\n",
        "    return PM\n",
        "  \n",
        "  def PMAjustado:\n",
        "    return PM_Ajustado\n",
        "  \n",
        "\n",
        "class Carteira:\n",
        "  \n",
        "  def__init__(self, nome):\n",
        "    self.nome = nome\n",
        "\n",
        "  def YOC:\n",
        "    return YOC\n",
        "\n",
        "  def DY:\n",
        "    return DY\n",
        "  \n",
        "  def Rentabilidade:\n",
        "    return Rentabilidade\n",
        "    \n",
        "  def Rendimentos:\n",
        "    return Rendimentos\n",
        "  \n",
        "  def AporteDoMes:\n",
        "    return AporteDoMes\n",
        "\n",
        "  "
      ],
      "metadata": {
        "id": "9nSHGpT_t3yw"
      },
      "execution_count": null,
      "outputs": []
    },
    {
      "cell_type": "markdown",
      "source": [
        "## Iniciando uma carteira"
      ],
      "metadata": {
        "id": "gd_nbh80zEy8"
      }
    },
    {
      "cell_type": "markdown",
      "source": [
        "### Saneamento do dataframe dos dados de Operações"
      ],
      "metadata": {
        "id": "_cKBIRN0UD09"
      }
    },
    {
      "cell_type": "markdown",
      "source": [
        ">\n",
        "1. REMOVER \"R$\" DO PREÇO\n",
        "2. TRANSFORMA A COLUNA PREÇO EM NUMERICO\n",
        "3. CRIAR UMA COLUNA \"TOTAL\" TOTALIZANDO A MULTIPLICAÇÃO ENTRE A QUANTIDADE E O PREÇO\n",
        "4. DISTRIBUIR PROPORCIONALMENTE AS TAXAS DE NOTA DE CORRETAGEM ENTRE AS OPERAÇÕES REALIZADAS NO DIA\n",
        "5. INCORPORAR TAXAS AO CALCULO DO PREÇO MEDIO (ACRESCENTAR POSTERIORMENTE)\n",
        "6. REMOVER \"F\" DE ATIVOS COM OPERAÇÕES FRACIONADAS\n",
        "7. ATUALIZAR TICKERS COM BASE NO SEU CÓDIGO ATUAL\n"
      ],
      "metadata": {
        "id": "isLCVVoQNwYO"
      }
    },
    {
      "cell_type": "code",
      "source": [
        "\n",
        "dfOperacoes= pd.DataFrame(Operacoes.get_all_records()) #Iniciado data frame com os dados de Operacoes\n",
        "\n",
        "dfOperacoes.head()\n",
        "\n",
        "dfPM=dfOperacoes.query('ticker == \"PLCR11\" & tipo == \"C\"')\n"
      ],
      "metadata": {
        "id": "iQ_63R50zKDA"
      },
      "execution_count": 59,
      "outputs": []
    },
    {
      "cell_type": "code",
      "source": [
        "dfPM.head()"
      ],
      "metadata": {
        "colab": {
          "base_uri": "https://localhost:8080/",
          "height": 215
        },
        "id": "cDX90X7aBE3C",
        "outputId": "81112844-9a33-4497-bd69-fa50a5475f13"
      },
      "execution_count": 48,
      "outputs": [
        {
          "output_type": "execute_result",
          "data": {
            "text/plain": [
              "           data categoria  ticker tipo  quantidade     preço  \\\n",
              "429  13/09/2022     FII's  PLCR11    C          70  R$ 86,23   \n",
              "430  20/09/2022     FII's  PLCR11    C          90  R$ 86,55   \n",
              "431  26/09/2022     FII's  PLCR11    C          35  R$ 86,40   \n",
              "432  27/09/2022     FII's  PLCR11    C          15  R$ 85,55   \n",
              "433  28/09/2022     FII's  PLCR11    C          70  R$ 85,65   \n",
              "\n",
              "            corretora   Corretagem Taxas Impostos IRRF  \n",
              "429  BANCO INTER S.A.                                   \n",
              "430  BANCO INTER S.A.                                   \n",
              "431  BANCO INTER S.A.                                   \n",
              "432  BANCO INTER S.A.                                   \n",
              "433  BANCO INTER S.A.                                   "
            ],
            "text/html": [
              "\n",
              "  <div id=\"df-66d7c348-d5fa-4053-88c8-e188a114b450\">\n",
              "    <div class=\"colab-df-container\">\n",
              "      <div>\n",
              "<style scoped>\n",
              "    .dataframe tbody tr th:only-of-type {\n",
              "        vertical-align: middle;\n",
              "    }\n",
              "\n",
              "    .dataframe tbody tr th {\n",
              "        vertical-align: top;\n",
              "    }\n",
              "\n",
              "    .dataframe thead th {\n",
              "        text-align: right;\n",
              "    }\n",
              "</style>\n",
              "<table border=\"1\" class=\"dataframe\">\n",
              "  <thead>\n",
              "    <tr style=\"text-align: right;\">\n",
              "      <th></th>\n",
              "      <th>data</th>\n",
              "      <th>categoria</th>\n",
              "      <th>ticker</th>\n",
              "      <th>tipo</th>\n",
              "      <th>quantidade</th>\n",
              "      <th>preço</th>\n",
              "      <th>corretora</th>\n",
              "      <th></th>\n",
              "      <th>Corretagem</th>\n",
              "      <th>Taxas</th>\n",
              "      <th>Impostos</th>\n",
              "      <th>IRRF</th>\n",
              "    </tr>\n",
              "  </thead>\n",
              "  <tbody>\n",
              "    <tr>\n",
              "      <th>429</th>\n",
              "      <td>13/09/2022</td>\n",
              "      <td>FII's</td>\n",
              "      <td>PLCR11</td>\n",
              "      <td>C</td>\n",
              "      <td>70</td>\n",
              "      <td>R$ 86,23</td>\n",
              "      <td>BANCO INTER S.A.</td>\n",
              "      <td></td>\n",
              "      <td></td>\n",
              "      <td></td>\n",
              "      <td></td>\n",
              "      <td></td>\n",
              "    </tr>\n",
              "    <tr>\n",
              "      <th>430</th>\n",
              "      <td>20/09/2022</td>\n",
              "      <td>FII's</td>\n",
              "      <td>PLCR11</td>\n",
              "      <td>C</td>\n",
              "      <td>90</td>\n",
              "      <td>R$ 86,55</td>\n",
              "      <td>BANCO INTER S.A.</td>\n",
              "      <td></td>\n",
              "      <td></td>\n",
              "      <td></td>\n",
              "      <td></td>\n",
              "      <td></td>\n",
              "    </tr>\n",
              "    <tr>\n",
              "      <th>431</th>\n",
              "      <td>26/09/2022</td>\n",
              "      <td>FII's</td>\n",
              "      <td>PLCR11</td>\n",
              "      <td>C</td>\n",
              "      <td>35</td>\n",
              "      <td>R$ 86,40</td>\n",
              "      <td>BANCO INTER S.A.</td>\n",
              "      <td></td>\n",
              "      <td></td>\n",
              "      <td></td>\n",
              "      <td></td>\n",
              "      <td></td>\n",
              "    </tr>\n",
              "    <tr>\n",
              "      <th>432</th>\n",
              "      <td>27/09/2022</td>\n",
              "      <td>FII's</td>\n",
              "      <td>PLCR11</td>\n",
              "      <td>C</td>\n",
              "      <td>15</td>\n",
              "      <td>R$ 85,55</td>\n",
              "      <td>BANCO INTER S.A.</td>\n",
              "      <td></td>\n",
              "      <td></td>\n",
              "      <td></td>\n",
              "      <td></td>\n",
              "      <td></td>\n",
              "    </tr>\n",
              "    <tr>\n",
              "      <th>433</th>\n",
              "      <td>28/09/2022</td>\n",
              "      <td>FII's</td>\n",
              "      <td>PLCR11</td>\n",
              "      <td>C</td>\n",
              "      <td>70</td>\n",
              "      <td>R$ 85,65</td>\n",
              "      <td>BANCO INTER S.A.</td>\n",
              "      <td></td>\n",
              "      <td></td>\n",
              "      <td></td>\n",
              "      <td></td>\n",
              "      <td></td>\n",
              "    </tr>\n",
              "  </tbody>\n",
              "</table>\n",
              "</div>\n",
              "      <button class=\"colab-df-convert\" onclick=\"convertToInteractive('df-66d7c348-d5fa-4053-88c8-e188a114b450')\"\n",
              "              title=\"Convert this dataframe to an interactive table.\"\n",
              "              style=\"display:none;\">\n",
              "        \n",
              "  <svg xmlns=\"http://www.w3.org/2000/svg\" height=\"24px\"viewBox=\"0 0 24 24\"\n",
              "       width=\"24px\">\n",
              "    <path d=\"M0 0h24v24H0V0z\" fill=\"none\"/>\n",
              "    <path d=\"M18.56 5.44l.94 2.06.94-2.06 2.06-.94-2.06-.94-.94-2.06-.94 2.06-2.06.94zm-11 1L8.5 8.5l.94-2.06 2.06-.94-2.06-.94L8.5 2.5l-.94 2.06-2.06.94zm10 10l.94 2.06.94-2.06 2.06-.94-2.06-.94-.94-2.06-.94 2.06-2.06.94z\"/><path d=\"M17.41 7.96l-1.37-1.37c-.4-.4-.92-.59-1.43-.59-.52 0-1.04.2-1.43.59L10.3 9.45l-7.72 7.72c-.78.78-.78 2.05 0 2.83L4 21.41c.39.39.9.59 1.41.59.51 0 1.02-.2 1.41-.59l7.78-7.78 2.81-2.81c.8-.78.8-2.07 0-2.86zM5.41 20L4 18.59l7.72-7.72 1.47 1.35L5.41 20z\"/>\n",
              "  </svg>\n",
              "      </button>\n",
              "      \n",
              "  <style>\n",
              "    .colab-df-container {\n",
              "      display:flex;\n",
              "      flex-wrap:wrap;\n",
              "      gap: 12px;\n",
              "    }\n",
              "\n",
              "    .colab-df-convert {\n",
              "      background-color: #E8F0FE;\n",
              "      border: none;\n",
              "      border-radius: 50%;\n",
              "      cursor: pointer;\n",
              "      display: none;\n",
              "      fill: #1967D2;\n",
              "      height: 32px;\n",
              "      padding: 0 0 0 0;\n",
              "      width: 32px;\n",
              "    }\n",
              "\n",
              "    .colab-df-convert:hover {\n",
              "      background-color: #E2EBFA;\n",
              "      box-shadow: 0px 1px 2px rgba(60, 64, 67, 0.3), 0px 1px 3px 1px rgba(60, 64, 67, 0.15);\n",
              "      fill: #174EA6;\n",
              "    }\n",
              "\n",
              "    [theme=dark] .colab-df-convert {\n",
              "      background-color: #3B4455;\n",
              "      fill: #D2E3FC;\n",
              "    }\n",
              "\n",
              "    [theme=dark] .colab-df-convert:hover {\n",
              "      background-color: #434B5C;\n",
              "      box-shadow: 0px 1px 3px 1px rgba(0, 0, 0, 0.15);\n",
              "      filter: drop-shadow(0px 1px 2px rgba(0, 0, 0, 0.3));\n",
              "      fill: #FFFFFF;\n",
              "    }\n",
              "  </style>\n",
              "\n",
              "      <script>\n",
              "        const buttonEl =\n",
              "          document.querySelector('#df-66d7c348-d5fa-4053-88c8-e188a114b450 button.colab-df-convert');\n",
              "        buttonEl.style.display =\n",
              "          google.colab.kernel.accessAllowed ? 'block' : 'none';\n",
              "\n",
              "        async function convertToInteractive(key) {\n",
              "          const element = document.querySelector('#df-66d7c348-d5fa-4053-88c8-e188a114b450');\n",
              "          const dataTable =\n",
              "            await google.colab.kernel.invokeFunction('convertToInteractive',\n",
              "                                                     [key], {});\n",
              "          if (!dataTable) return;\n",
              "\n",
              "          const docLinkHtml = 'Like what you see? Visit the ' +\n",
              "            '<a target=\"_blank\" href=https://colab.research.google.com/notebooks/data_table.ipynb>data table notebook</a>'\n",
              "            + ' to learn more about interactive tables.';\n",
              "          element.innerHTML = '';\n",
              "          dataTable['output_type'] = 'display_data';\n",
              "          await google.colab.output.renderOutput(dataTable, element);\n",
              "          const docLink = document.createElement('div');\n",
              "          docLink.innerHTML = docLinkHtml;\n",
              "          element.appendChild(docLink);\n",
              "        }\n",
              "      </script>\n",
              "    </div>\n",
              "  </div>\n",
              "  "
            ]
          },
          "metadata": {},
          "execution_count": 48
        }
      ]
    },
    {
      "cell_type": "code",
      "source": [
        "dfPM['total']=df.apply(lambda x: x['quantidade']*x['preço'], axis=1)"
      ],
      "metadata": {
        "id": "eIoE0jm_C7r_"
      },
      "execution_count": null,
      "outputs": []
    },
    {
      "cell_type": "code",
      "source": [
        "dfPM['quantidade'].sum()"
      ],
      "metadata": {
        "id": "MWmOhhLq_dlS"
      },
      "execution_count": null,
      "outputs": []
    },
    {
      "cell_type": "markdown",
      "source": [
        "> PARA INSTANCIAR UM OBJETO SERÁ UTILIZADO COMO ENTRADA UM DATA FRAME COM TODAS AS OPERAÇÕES REALIZADAS COM O ATIVO"
      ],
      "metadata": {
        "id": "19nOCkyuQxH6"
      }
    },
    {
      "cell_type": "code",
      "source": [],
      "metadata": {
        "id": "2DSipGf-RYNM"
      },
      "execution_count": null,
      "outputs": []
    }
  ]
}